{
 "cells": [
  {
   "cell_type": "code",
   "execution_count": 6,
   "metadata": {},
   "outputs": [],
   "source": [
    "import pandas as pd\n",
    "\n",
    "\n",
    "df5 = pd.read_csv(\"reviews_5star.csv\")\n",
    "df4 = pd.read_csv(\"reviews_4star.csv\")\n",
    "df3 = pd.read_csv(\"reviews_3star.csv\")\n",
    "df2 = pd.read_csv(\"reviews_2star.csv\")\n",
    "df1 = pd.read_csv(\"reviews_1star.csv\")\n",
    "\n",
    "\n",
    "temp = df5.append(df4)\n",
    "temp = temp.append(df3)\n",
    "temp = temp.append(df2)\n",
    "temp = temp.append(df1)\n",
    "temp.reindex()\n",
    "temp.head()\n",
    "temp.to_csv(\"reviews_data.csv\")\n",
    "\n"
   ]
  }
 ],
 "metadata": {
  "kernelspec": {
   "display_name": "Python 3",
   "language": "python",
   "name": "python3"
  },
  "language_info": {
   "codemirror_mode": {
    "name": "ipython",
    "version": 3
   },
   "file_extension": ".py",
   "mimetype": "text/x-python",
   "name": "python",
   "nbconvert_exporter": "python",
   "pygments_lexer": "ipython3",
   "version": "3.7.0"
  }
 },
 "nbformat": 4,
 "nbformat_minor": 2
}
